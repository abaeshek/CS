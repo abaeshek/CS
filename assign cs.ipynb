{
 "cells": [
  {
   "cell_type": "code",
   "execution_count": 2,
   "id": "34bf0224",
   "metadata": {},
   "outputs": [
    {
     "name": "stdout",
     "output_type": "stream",
     "text": [
      "Statistics for X\n",
      "\n",
      "Mean :   35.285714285714285\n",
      "\n",
      "Std :   29.508905608376626\n",
      "\n",
      "Variance :   870.7755102040816\n",
      "\n",
      "Median is :   22\n",
      "\n",
      "Mode is :   76\n"
     ]
    }
   ],
   "source": [
    "import numpy as np\n",
    "import statistics\n",
    "\n",
    "x = [4,12,51,98,39,21,22]\n",
    "y=[4,6,76,24,224,584,34,34,56,76]\n",
    "a = np.mean(x)\n",
    "\n",
    "print(\"Statistics for X\")\n",
    "print(\"\\nMean :  \", a)\n",
    "a= np.std(x)\n",
    "print(\"\\nStd :  \", a)\n",
    "\n",
    "a= np.var(x)\n",
    "print(\"\\nVariance :  \", a)\n",
    "\n",
    "n = len(x) \n",
    "x.sort() \n",
    "\n",
    "if n % 2 == 0: \n",
    "    median1 = x[n//2] \n",
    "    median2 = x[n//2 - 1] \n",
    "    median = (median1 + median2)/2\n",
    "else: \n",
    "    median = x[n//2] \n",
    "print(\"\\nMedian is :  \",median)\n",
    "\n",
    "print(\"\\nMode is :  \", statistics.mode(y) )"
   ]
  },
  {
   "cell_type": "code",
   "execution_count": null,
   "id": "148cabc9",
   "metadata": {},
   "outputs": [],
   "source": []
  }
 ],
 "metadata": {
  "kernelspec": {
   "display_name": "Python 3 (ipykernel)",
   "language": "python",
   "name": "python3"
  },
  "language_info": {
   "codemirror_mode": {
    "name": "ipython",
    "version": 3
   },
   "file_extension": ".py",
   "mimetype": "text/x-python",
   "name": "python",
   "nbconvert_exporter": "python",
   "pygments_lexer": "ipython3",
   "version": "3.9.12"
  }
 },
 "nbformat": 4,
 "nbformat_minor": 5
}
